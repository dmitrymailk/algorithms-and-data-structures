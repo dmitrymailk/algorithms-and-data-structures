{
 "cells": [
  {
   "cell_type": "code",
   "execution_count": 1,
   "metadata": {},
   "outputs": [
    {
     "name": "stdout",
     "output_type": "stream",
     "text": [
      "LOG: parse image path https://en.wikipedia.org/static/images/icons/wikipedia.png\n",
      "Saved successfuly on path: ./wiki.png\n"
     ]
    }
   ],
   "source": [
    "import requests\n",
    "from bs4 import BeautifulSoup\n",
    "\n",
    "class WebsiteImageParser:\n",
    "    \n",
    "    def __init__(self, url, save_path='test.png',) -> None:\n",
    "        self.url = url\n",
    "        self.save_path = save_path\n",
    "    \n",
    "    def parse(self):\n",
    "        \"\"\"\n",
    "        template method - он определяет общую структуру всего алгоритма\n",
    "        \"\"\"\n",
    "        html = self.get_html(url=self.url)\n",
    "        soup = self.get_soup(html=html)\n",
    "        img_path = self.extract_img(soup=soup)\n",
    "        print(f\"LOG: parse image path {img_path}\")\n",
    "        self.save_image(img_path=img_path)\n",
    "        print(f\"Saved successfuly on path: {self.save_path}\")\n",
    "    \n",
    "    def extract_img(self, soup):\n",
    "        raise \"You should write this method\"\n",
    "    \n",
    "    def get_html(self, url):\n",
    "        response = requests.get(url=url)\n",
    "        return response.text\n",
    "    \n",
    "    def get_soup(self, html):\n",
    "        soup = BeautifulSoup(html)\n",
    "        return soup\n",
    "\n",
    "    def save_image(self, img_path):\n",
    "        r = requests.get(img_path, allow_redirects=True)\n",
    "        with open(self.save_path, 'wb') as f:\n",
    "            f.write(r.content)\n",
    "\n",
    "class WikiParser(WebsiteImageParser):\n",
    "    def extract_img(self, soup):\n",
    "        image = soup.find(\"img\", class_=\"mw-logo-icon\")\n",
    "        image = image['src']\n",
    "        image = f\"https://en.wikipedia.org{image}\"\n",
    "        return image\n",
    "    \n",
    "wiki_parser = WikiParser(\n",
    "    url=\"https://en.wikipedia.org/wiki/Main_Page\",\n",
    "    save_path=\"./wiki.png\"\n",
    ")\n",
    "wiki_parser.parse()"
   ]
  }
 ],
 "metadata": {
  "kernelspec": {
   "display_name": "Python 3",
   "language": "python",
   "name": "python3"
  },
  "language_info": {
   "codemirror_mode": {
    "name": "ipython",
    "version": 3
   },
   "file_extension": ".py",
   "mimetype": "text/x-python",
   "name": "python",
   "nbconvert_exporter": "python",
   "pygments_lexer": "ipython3",
   "version": "3.10.10"
  },
  "orig_nbformat": 4
 },
 "nbformat": 4,
 "nbformat_minor": 2
}
