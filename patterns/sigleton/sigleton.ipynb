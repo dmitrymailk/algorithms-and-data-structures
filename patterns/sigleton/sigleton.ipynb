{
 "cells": [
  {
   "cell_type": "code",
   "execution_count": 15,
   "metadata": {},
   "outputs": [
    {
     "name": "stdout",
     "output_type": "stream",
     "text": [
      "True\n",
      "['log1', 'log2']\n",
      "['log1', 'log2']\n",
      "Show logs!\n",
      "log1\n",
      "---\n",
      "log2\n"
     ]
    }
   ],
   "source": [
    "\"\"\"\n",
    "Functional Singleton\n",
    "\"\"\"\n",
    "\n",
    "from typing import Callable\n",
    "\n",
    "\n",
    "def functional_singleton(\n",
    "    create_object: Callable[[], object],\n",
    ") -> Callable[[], object]:\n",
    "    \"\"\"Ensure a single instance is returned from a factory function.\"\"\"\n",
    "    instance = None\n",
    "\n",
    "    def get_instance():\n",
    "        nonlocal instance\n",
    "        # print(f\"instance={instance}\")\n",
    "        if instance is None:\n",
    "            instance = create_object()\n",
    "        return instance\n",
    "\n",
    "    return get_instance\n",
    "\n",
    "\n",
    "def create_logger():\n",
    "    return {\"logs\": []}\n",
    "\n",
    "\n",
    "get_logger = functional_singleton(create_logger)\n",
    "\n",
    "\n",
    "def log(message):\n",
    "    logger = get_logger()\n",
    "    logger[\"logs\"].append(message)\n",
    "\n",
    "\n",
    "def show_logs():\n",
    "    print(\"Show logs!\")\n",
    "    logger = get_logger()\n",
    "    logs = \"\\n---\\n\".join(logger[\"logs\"])\n",
    "    print(logs)\n",
    "\n",
    "\n",
    "logger1 = get_logger()\n",
    "logger2 = get_logger()\n",
    "\n",
    "print(logger1 is logger2)  # True\n",
    "log(\"log1\")\n",
    "log(\"log2\")\n",
    "print(logger1[\"logs\"])\n",
    "print(logger2[\"logs\"])\n",
    "show_logs()"
   ]
  },
  {
   "cell_type": "code",
   "execution_count": 18,
   "metadata": {},
   "outputs": [
    {
     "name": "stdout",
     "output_type": "stream",
     "text": [
      "['Log 1']\n",
      "['Log 1', 'Log 2']\n",
      "140012782412096 140012782412096 True\n",
      "['Log 1', 'Log 2'] ['Log 1', 'Log 2']\n"
     ]
    }
   ],
   "source": [
    "\"\"\"\n",
    "OOP Singleton\n",
    "\"\"\"\n",
    "\n",
    "\n",
    "class SingletonMeta(type):\n",
    "    _instance = None\n",
    "\n",
    "    def __call__(cls, *args, **kwargs):\n",
    "        if cls._instance is None:\n",
    "            instance = super().__call__(*args, **kwargs)\n",
    "            cls._instance = instance\n",
    "        return cls._instance\n",
    "\n",
    "\n",
    "class OOPLogger(metaclass=SingletonMeta):\n",
    "    \"\"\"Singleton implemented as a Python class.\"\"\"\n",
    "\n",
    "    _instance = None\n",
    "\n",
    "    def __init__(self) -> None:\n",
    "        self.logs = []\n",
    "\n",
    "    def __call__(cls, *args, **kwargs):\n",
    "        if cls._instance is None:\n",
    "            instance = super().__call__(*args, **kwargs)\n",
    "            cls._instance = instance\n",
    "        return cls._instance\n",
    "\n",
    "    def log(self, text):\n",
    "        self.logs.append(text)\n",
    "\n",
    "\n",
    "s1 = OOPLogger()\n",
    "s1.log(\"Log 1\")\n",
    "print(s1.logs)\n",
    "s2 = OOPLogger()\n",
    "s1.log(\"Log 2\")\n",
    "print(s2.logs)\n",
    "\n",
    "print(id(s1), id(s2), id(s1) == id(s2))  # True\n",
    "print(s1.logs, s2.logs)"
   ]
  }
 ],
 "metadata": {
  "kernelspec": {
   "display_name": "Python 3",
   "language": "python",
   "name": "python3"
  },
  "language_info": {
   "codemirror_mode": {
    "name": "ipython",
    "version": 3
   },
   "file_extension": ".py",
   "mimetype": "text/x-python",
   "name": "python",
   "nbconvert_exporter": "python",
   "pygments_lexer": "ipython3",
   "version": "3.10.10"
  },
  "orig_nbformat": 4
 },
 "nbformat": 4,
 "nbformat_minor": 2
}
