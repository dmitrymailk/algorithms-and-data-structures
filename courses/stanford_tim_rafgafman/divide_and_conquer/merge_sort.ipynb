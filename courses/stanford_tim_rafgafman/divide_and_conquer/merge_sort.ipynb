{
 "cells": [
  {
   "attachments": {},
   "cell_type": "markdown",
   "metadata": {},
   "source": [
    "## merge operation\n"
   ]
  },
  {
   "cell_type": "code",
   "execution_count": 19,
   "metadata": {},
   "outputs": [
    {
     "data": {
      "text/plain": [
       "[3, 4, 6, 8, 9]"
      ]
     },
     "execution_count": 19,
     "metadata": {},
     "output_type": "execute_result"
    }
   ],
   "source": [
    "# array_1 = [3, 4, 6]\n",
    "# array_2 = [8, 9]\n",
    "\n",
    "# array_1 = [3, 4, 6]\n",
    "# array_2 = [3, 4, 6]\n",
    "\n",
    "array_1 = [8, 9]\n",
    "array_2 = [3, 4, 6]\n",
    "\n",
    "\n",
    "def merge_operation(A, B):\n",
    "    total_len = len(A) + len(B)\n",
    "    C = [0 for _ in range(total_len)]\n",
    "    index_A = 0\n",
    "    index_B = 0\n",
    "    index_C = 0\n",
    "\n",
    "    while index_B < len(B) and index_A < len(A):\n",
    "        if A[index_A] <= B[index_B]:\n",
    "            C[index_C] = A[index_A]\n",
    "            index_A += 1\n",
    "        else:\n",
    "            C[index_C] = B[index_B]\n",
    "            index_B += 1\n",
    "        index_C += 1\n",
    "    # print(index_C, len(C), index_A, len(A))\n",
    "    # print(index_C, len(C), index_B, len(B))\n",
    "\n",
    "    if index_A == len(A):\n",
    "        for _ in range(len(C) - index_C):\n",
    "            C[index_C] = B[index_B]\n",
    "            index_B += 1\n",
    "            index_C += 1\n",
    "    else:\n",
    "        for _ in range(len(C) - index_C):\n",
    "            C[index_C] = A[index_A]\n",
    "            index_A += 1\n",
    "            index_C += 1\n",
    "    # print(C)\n",
    "    return C\n",
    "\n",
    "\n",
    "merge_operation(A=array_1, B=array_2)"
   ]
  },
  {
   "attachments": {},
   "cell_type": "markdown",
   "metadata": {},
   "source": [
    "## divide\n"
   ]
  },
  {
   "cell_type": "code",
   "execution_count": 26,
   "metadata": {},
   "outputs": [
    {
     "data": {
      "text/plain": [
       "([1], [])"
      ]
     },
     "execution_count": 26,
     "metadata": {},
     "output_type": "execute_result"
    }
   ],
   "source": [
    "def divide_operation(A):\n",
    "    part_1 = []\n",
    "    part_2 = []\n",
    "\n",
    "    middle = len(A) // 2\n",
    "    if middle == 0:\n",
    "        # массив единичной длины\n",
    "        return A, []\n",
    "\n",
    "    for i in range(len(A)):\n",
    "        if i < middle:\n",
    "            part_1.append(A[i])\n",
    "        else:\n",
    "            part_2.append(A[i])\n",
    "\n",
    "    return part_1, part_2\n",
    "\n",
    "\n",
    "array = [1]\n",
    "# array = [1, 2]\n",
    "# array = [1, 2, 3]\n",
    "# array = [1, 2, 3, 4]\n",
    "# array = [1, 2, 3, 4, 5]\n",
    "\n",
    "divide_operation(array)"
   ]
  },
  {
   "cell_type": "code",
   "execution_count": 31,
   "metadata": {},
   "outputs": [
    {
     "name": "stdout",
     "output_type": "stream",
     "text": [
      "[[1], [65], [54], [67], [2], [5], [784], [3], [5], [2, 3]]\n",
      "[[54], [67], [2], [5], [784], [3], [5], [2, 3], [1, 65]]\n",
      "[[2], [5], [784], [3], [5], [2, 3], [1, 65], [54, 67]]\n",
      "[[784], [3], [5], [2, 3], [1, 65], [54, 67], [2, 5]]\n",
      "[[5], [2, 3], [1, 65], [54, 67], [2, 5], [3, 784]]\n",
      "[[1, 65], [54, 67], [2, 5], [3, 784], [2, 3, 5]]\n",
      "[[2, 5], [3, 784], [2, 3, 5], [1, 54, 65, 67]]\n",
      "[[2, 3, 5], [1, 54, 65, 67], [2, 3, 5, 784]]\n",
      "[[2, 3, 5, 784], [1, 2, 3, 5, 54, 65, 67]]\n",
      "[[1, 2, 2, 3, 3, 5, 5, 54, 65, 67, 784]]\n"
     ]
    },
    {
     "data": {
      "text/plain": [
       "[[1, 2, 2, 3, 3, 5, 5, 54, 65, 67, 784]]"
      ]
     },
     "execution_count": 31,
     "metadata": {},
     "output_type": "execute_result"
    }
   ],
   "source": [
    "initial_array = [3, 2, 1, 65, 54, 67, 2, 5, 784, 3, 5]\n",
    "\n",
    "recursion_stack = []\n",
    "for i in range(len(initial_array)):\n",
    "    recursion_stack.append([initial_array[i]])\n",
    "\n",
    "max_interations = 1000\n",
    "iteration = 0\n",
    "while len(recursion_stack) != 1:\n",
    "    iteration += 1\n",
    "    array_1 = recursion_stack.pop(0)\n",
    "    array_2 = recursion_stack.pop(0)\n",
    "    merged_arrays = merge_operation(A=array_1, B=array_2)\n",
    "    recursion_stack.append(merged_arrays)\n",
    "    print(recursion_stack)\n",
    "\n",
    "    if iteration > max_interations:\n",
    "        break\n",
    "\n",
    "recursion_stack"
   ]
  }
 ],
 "metadata": {
  "kernelspec": {
   "display_name": "Python 3",
   "language": "python",
   "name": "python3"
  },
  "language_info": {
   "codemirror_mode": {
    "name": "ipython",
    "version": 3
   },
   "file_extension": ".py",
   "mimetype": "text/x-python",
   "name": "python",
   "nbconvert_exporter": "python",
   "pygments_lexer": "ipython3",
   "version": "3.10.10"
  },
  "orig_nbformat": 4
 },
 "nbformat": 4,
 "nbformat_minor": 2
}
