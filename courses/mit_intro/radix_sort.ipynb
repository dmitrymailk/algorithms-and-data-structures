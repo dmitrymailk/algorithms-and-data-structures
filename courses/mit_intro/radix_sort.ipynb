{
 "cells": [
  {
   "cell_type": "code",
   "execution_count": 27,
   "metadata": {},
   "outputs": [
    {
     "data": {
      "text/plain": [
       "(11, 0)"
      ]
     },
     "execution_count": 27,
     "metadata": {},
     "output_type": "execute_result"
    }
   ],
   "source": [
    "# array = [3, 55, 7, 23, 78, 100]\n",
    "array = [0, 24, 3, 5, 12]\n",
    "\n",
    "n = 5\n",
    "a = 55 // n\n",
    "b = 55 % n\n",
    "a, b"
   ]
  },
  {
   "cell_type": "code",
   "execution_count": 24,
   "metadata": {},
   "outputs": [
    {
     "data": {
      "text/plain": [
       "[(0, 0), (4, 4), (0, 3), (1, 0), (2, 2)]"
      ]
     },
     "execution_count": 24,
     "metadata": {},
     "output_type": "execute_result"
    }
   ],
   "source": [
    "div_mod = [divmod(num, n) for num in array]\n",
    "div_mod"
   ]
  },
  {
   "cell_type": "code",
   "execution_count": 25,
   "metadata": {},
   "outputs": [
    {
     "data": {
      "text/plain": [
       "[[], [], [], [], []]"
      ]
     },
     "execution_count": 25,
     "metadata": {},
     "output_type": "execute_result"
    }
   ],
   "source": [
    "positions = [[]] * n\n",
    "positions"
   ]
  },
  {
   "cell_type": "code",
   "execution_count": 29,
   "metadata": {},
   "outputs": [
    {
     "name": "stdout",
     "output_type": "stream",
     "text": [
      "pos=1\n",
      "[(0, 0), (1, 0), (2, 2), (0, 3), (4, 4)]\n",
      "[[], [], [], [], [], []]\n",
      "pos=0\n",
      "[(0, 0), (0, 3), (1, 0), (2, 2), (4, 4)]\n",
      "[[], [], [], [], [], []]\n"
     ]
    },
    {
     "data": {
      "text/plain": [
       "[0, 3, 5, 12, 24]"
      ]
     },
     "execution_count": 29,
     "metadata": {},
     "output_type": "execute_result"
    }
   ],
   "source": [
    "# array = [3, 55, 7, 23, 78, 100]\n",
    "array = [0, 24, 3, 5, 12]\n",
    "n = 5\n",
    "div_mod = [divmod(num, n) for num in array]\n",
    "positions = [[] for _ in range(n+1)]\n",
    "\n",
    "for pos in range(1, -1, -1):\n",
    "    print(f\"pos={pos}\")\n",
    "    for num_tuple in div_mod:\n",
    "        num_pos = num_tuple[pos]\n",
    "        # print(num_pos)\n",
    "        positions[num_pos].append(num_tuple)\n",
    "    # print(positions)\n",
    "    div_mod = []\n",
    "    for bucket in positions:\n",
    "        for _ in range(len(bucket)):\n",
    "            num_tuple = bucket.pop(0)\n",
    "            div_mod.append(num_tuple)\n",
    "    print(div_mod)\n",
    "    print(positions)\n",
    "    # break\n",
    "div_mod = [item[0] * n + item[1] for item in div_mod]\n",
    "div_mod"
   ]
  },
  {
   "cell_type": "markdown",
   "metadata": {},
   "source": [
    "важно чтобы целые числа находились в диапазоне, которые меньше квадрата количества наших бакетов.\n",
    "\n",
    "допустим мы можем сортировать числа от 0 до 25 если у нас 5 бакетов\n",
    "и можем сортировать числа от 0 до 100 если у нас 10 бакетов и тд.\n",
    "\n",
    "для данного алгоритма это так."
   ]
  },
  {
   "cell_type": "code",
   "execution_count": null,
   "metadata": {},
   "outputs": [],
   "source": []
  }
 ],
 "metadata": {
  "kernelspec": {
   "display_name": "Python 3",
   "language": "python",
   "name": "python3"
  },
  "language_info": {
   "codemirror_mode": {
    "name": "ipython",
    "version": 3
   },
   "file_extension": ".py",
   "mimetype": "text/x-python",
   "name": "python",
   "nbconvert_exporter": "python",
   "pygments_lexer": "ipython3",
   "version": "2.7.0"
  },
  "orig_nbformat": 4
 },
 "nbformat": 4,
 "nbformat_minor": 2
}
